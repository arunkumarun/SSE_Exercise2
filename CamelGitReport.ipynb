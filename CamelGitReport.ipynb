{
 "cells": [
  {
   "cell_type": "markdown",
   "metadata": {},
   "source": [
    "\n"
   ]
  },
  {
   "cell_type": "markdown",
   "metadata": {},
   "source": [
    "# Load libraries"
   ]
  },
  {
   "cell_type": "code",
   "execution_count": 1,
   "metadata": {},
   "outputs": [],
   "source": [
    "import numpy as np\n",
    "import pandas as pd\n",
    "import os\n",
    "import re\n",
    "\n",
    "from datetime import datetime\n",
    "\n",
    "# Specify git executable file for GitPython in Jupyter Notebook (In IDE, it can still work without this line.)\n",
    "os.environ[\"GIT_PYTHON_GIT_EXECUTABLE\"] = \"C:\\Program Files\\Git\\cmd\\git.exe\"\n",
    "\n",
    "import git\n",
    "from git import RemoteProgress\n",
    "\n",
    "from git import Repo\n",
    "import matplotlib.pyplot as plt\n",
    "import seaborn as sns\n",
    "%matplotlib inline"
   ]
  },
  {
   "cell_type": "markdown",
   "metadata": {},
   "source": [
    "# Clone repo from GitHub"
   ]
  },
  {
   "cell_type": "markdown",
   "metadata": {},
   "source": [
    "Link: https://git-scm.com/docs/git-clone <br>\n",
    "<b>Note:</b> In case too-long file path issue occurs in Windows, set <code>git config --system core.longpaths true</code>"
   ]
  },
  {
   "cell_type": "code",
   "execution_count": 2,
   "metadata": {},
   "outputs": [],
   "source": [
    "class Progress(RemoteProgress):\n",
    "    def update(self, op_code, cur_count, max_count=None, message=''):\n",
    "        print(self._cur_line)"
   ]
  },
  {
   "cell_type": "code",
   "execution_count": 3,
   "metadata": {},
   "outputs": [],
   "source": [
    "class Developers:\n",
    "    developer = []"
   ]
  },
  {
   "cell_type": "code",
   "execution_count": 4,
   "metadata": {},
   "outputs": [],
   "source": [
    "#remote_link = \"https://github.com/apache/camel\"\n",
    "local_link = \"camel\"\n",
    "# Uncomment to clone\n",
    "# Repo.clone_from(remote_link, local_link, progress=Progress())"
   ]
  },
  {
   "cell_type": "code",
   "execution_count": 5,
   "metadata": {},
   "outputs": [],
   "source": [
    "repo = Repo(local_link)\n",
    "fixing_commit = \"d4102512147eca2af21c3b6ed63a67d852f4e66\"\n",
    "affected_file = {\"components/camel-jackson/src/main/java/org/apache/camel/component/jackson/JacksonDataFormat.java\",\n",
    "                \"components/camel-jackson/src/test/java/org/apache/camel/component/jackson/JacksonMarshalUnmarshalTypeHeaderTest.java\"}"
   ]
  },
  {
   "cell_type": "markdown",
   "metadata": {},
   "source": [
    "# A. Show Message and Title of Fixing Commit\n",
    "Link: https://git-scm.com/docs/git-show\n",
    "You can explore different parameters."
   ]
  },
  {
   "cell_type": "code",
   "execution_count": 6,
   "metadata": {},
   "outputs": [
    {
     "name": "stdout",
     "output_type": "stream",
     "text": [
      "commit d4102512147eca2af21c3b6ed63a67d852f4e66a\n",
      "Author: Andrea Cosentino <ancosen@gmail.com>\n",
      "Date:   Thu Dec 8 09:51:19 2016 +0100\n",
      "\n",
      "    CAMEL-10567: Camel-Jackson: Add an option to allow the UnmarshallType header use\n"
     ]
    }
   ],
   "source": [
    "show_data = repo.git.show(\"-s\", fixing_commit).splitlines()\n",
    "for line in show_data:\n",
    "    print(line)"
   ]
  },
  {
   "cell_type": "markdown",
   "metadata": {},
   "source": [
    "# B. Show Total files affected in fixing commit"
   ]
  },
  {
   "cell_type": "code",
   "execution_count": 6,
   "metadata": {},
   "outputs": [
    {
     "name": "stdout",
     "output_type": "stream",
     "text": [
      " .../apache/camel/component/jackson/JacksonDataFormat.java    | 12 ++++++------\n",
      " .../jackson/JacksonMarshalUnmarshalTypeHeaderTest.java       |  2 +-\n",
      " 2 files changed, 7 insertions(+), 7 deletions(-)\n"
     ]
    }
   ],
   "source": [
    "show_total_files = repo.git.show(\"--pretty=\"\"\",\"--stat\", fixing_commit)\n",
    "print(show_total_files)"
   ]
  },
  {
   "cell_type": "markdown",
   "metadata": {},
   "source": [
    "# C. Show Total directories affected in fixing commit"
   ]
  },
  {
   "cell_type": "code",
   "execution_count": 7,
   "metadata": {},
   "outputs": [
    {
     "name": "stdout",
     "output_type": "stream",
     "text": [
      "commit d4102512147eca2af21c3b6ed63a67d852f4e66a\n",
      "Author: Andrea Cosentino <ancosen@gmail.com>\n",
      "Date:   Thu Dec 8 09:51:19 2016 +0100\n",
      "\n",
      "    CAMEL-10567: Camel-Jackson: Add an option to allow the UnmarshallType header use\n",
      "\n",
      "  84.9% components/camel-jackson/src/main/java/org/apache/camel/component/jackson/\n",
      "  15.0% components/camel-jackson/src/test/java/org/apache/camel/component/jackson/\n"
     ]
    }
   ],
   "source": [
    "show_total_dir = repo.git.show(\"--dirstat\", fixing_commit)\n",
    "print(show_total_dir)"
   ]
  },
  {
   "cell_type": "markdown",
   "metadata": {},
   "source": [
    "# D. Total lines of code deleted (Including comments and blank lines)"
   ]
  },
  {
   "cell_type": "code",
   "execution_count": 8,
   "metadata": {},
   "outputs": [
    {
     "name": "stdout",
     "output_type": "stream",
     "text": [
      "Total lines of code deleted <Including comments and blank lines> = 7\n"
     ]
    }
   ],
   "source": [
    "show_total_lines_deleted = repo.git.show(\"--shortstat\", fixing_commit).splitlines()\n",
    "show_total_lines_deleted.reverse()\n",
    "show_total_lines_deleted = show_total_lines_deleted[0].split(\",\")\n",
    "show_total_lines_deleted = show_total_lines_deleted[2].split(\" \")\n",
    "print(\"Total lines of code deleted <Including comments and blank lines> = \"+show_total_lines_deleted[1])"
   ]
  },
  {
   "cell_type": "markdown",
   "metadata": {},
   "source": [
    "# E. Total lines of code added (Including comments and blank lines)"
   ]
  },
  {
   "cell_type": "code",
   "execution_count": 9,
   "metadata": {},
   "outputs": [
    {
     "name": "stdout",
     "output_type": "stream",
     "text": [
      "Total lines of code Added <Including comments and blank lines> = 7\n"
     ]
    }
   ],
   "source": [
    "show_total_lines_added = repo.git.show(\"--shortstat\", fixing_commit).splitlines()\n",
    "show_total_lines_added.reverse()\n",
    "show_total_lines_added = show_total_lines_added[0].split(\",\")\n",
    "show_total_lines_added = show_total_lines_added[1].split(\" \")\n",
    "print(\"Total lines of code Added <Including comments and blank lines> = \"+show_total_lines_added[1])"
   ]
  },
  {
   "cell_type": "markdown",
   "metadata": {},
   "source": [
    "# F. Total lines of code deleted (Excluding comments and blank lines)"
   ]
  },
  {
   "cell_type": "code",
   "execution_count": 10,
   "metadata": {},
   "outputs": [
    {
     "name": "stdout",
     "output_type": "stream",
     "text": [
      "-    private boolean allowJacksonUnmarshallType;\n",
      "-        if (allowJacksonUnmarshallType) {\n",
      "-    public boolean isAllowJacksonUnmarshallType() {\n",
      "-        return allowJacksonUnmarshallType;\n",
      "-    public void setAllowJacksonUnmarshallType(boolean allowJacksonUnmarshallType) {\n",
      "-        this.allowJacksonUnmarshallType = allowJacksonUnmarshallType;\n",
      "-                format.setAllowJacksonUnmarshallType(true);\n",
      "Total Lines Deleted <Excluding comments and blank lines> = 7\n"
     ]
    }
   ],
   "source": [
    "show_total_lines_del = repo.git.show(\"-U0\",\"--pretty=\"\"\",fixing_commit).splitlines()\n",
    "#print(show_total_lines_del)\n",
    "temp_line = []\n",
    "t_l_del = 0\n",
    "for line in show_total_lines_del:\n",
    "    if re.search(\"^-\",line):\n",
    "        l = line.split(\" \")\n",
    "        if(len(l) > 3):\n",
    "            if(len(l[0]) == 1):\n",
    "                if(l[1][:1] != '*' or l[1][:1] != '/'):\n",
    "                    print(line)\n",
    "                    t_l_del += 1\n",
    "                    \n",
    "print(\"Total Lines Deleted <Excluding comments and blank lines> = \"+ str(t_l_del))"
   ]
  },
  {
   "cell_type": "markdown",
   "metadata": {},
   "source": [
    "# G. Total lines of code added (Excluding comments and blank lines)"
   ]
  },
  {
   "cell_type": "code",
   "execution_count": 11,
   "metadata": {},
   "outputs": [
    {
     "name": "stdout",
     "output_type": "stream",
     "text": [
      "+    private boolean allowUnmarshallType;\n",
      "+        if (allowUnmarshallType) {\n",
      "+    public boolean isAllowUnmarshallType() {\n",
      "+        return allowUnmarshallType;\n",
      "+    public void setAllowUnmarshallType(boolean allowJacksonUnmarshallType) {\n",
      "+        this.allowUnmarshallType = allowJacksonUnmarshallType;\n",
      "+                format.setAllowUnmarshallType(true);\n",
      "Total Lines Added <Excluding comments and blank lines> = 7\n"
     ]
    }
   ],
   "source": [
    "show_total_lines_add = repo.git.show(\"-U0\",\"--pretty=\"\"\",fixing_commit).splitlines()\n",
    "#print(show_total_lines_add)\n",
    "temp_line_add = []\n",
    "t_l_add = 0\n",
    "for line in show_total_lines_add:\n",
    "    #check for + symbol in beginning of line\n",
    "    if re.search(\"^\\+\",line):\n",
    "        l = line.split(\" \")\n",
    "        #If length is less than 3 it is blank line\n",
    "        if(len(l) > 3):\n",
    "            #Avoids lines like +++ \n",
    "            if(len(l[0]) == 1):\n",
    "                #Checks for comments in the line\n",
    "                if(l[1][:1] != '*' or l[1][:1] != '/'):\n",
    "                    print(line)\n",
    "                    t_l_add += 1\n",
    "                    \n",
    "print(\"Total Lines Added <Excluding comments and blank lines> = \"+ str(t_l_add))"
   ]
  },
  {
   "cell_type": "markdown",
   "metadata": {},
   "source": [
    "# H. Number of Days between current fixing commit and the previous commit of each affected file"
   ]
  },
  {
   "cell_type": "code",
   "execution_count": 12,
   "metadata": {},
   "outputs": [
    {
     "name": "stdout",
     "output_type": "stream",
     "text": [
      "File 1 = components/camel-jackson/src/main/java/org/apache/camel/component/jackson/JacksonDataFormat.java\n",
      "No of Days = 0\n",
      "File 2 = components/camel-jackson/src/test/java/org/apache/camel/component/jackson/JacksonMarshalUnmarshalTypeHeaderTest.java\n",
      "No of Days = 0\n"
     ]
    }
   ],
   "source": [
    "fileNum = 1\n",
    "for af in affected_file:\n",
    "    no_of_days = repo.git.log(\"-2\",\"--pretty=fuller\",\"--format=%cd\", fixing_commit,\"--\",af).splitlines()\n",
    "    #print(no_of_days)\n",
    "    date1 = datetime.strptime(no_of_days[0],'%a %b %d %X %Y %z')\n",
    "    #print(date1)\n",
    "    date2 = datetime.strptime(no_of_days[1],'%a %b %d %X %Y %z')\n",
    "    #print(date2)\n",
    "    diffDate = abs((date1-date2).days)\n",
    "    print(\"File \"+str(fileNum)+ \" = \"+ af)\n",
    "    print(\"No of Days = \"+ str(diffDate))\n",
    "    fileNum+=1"
   ]
  },
  {
   "cell_type": "markdown",
   "metadata": {},
   "source": [
    "# I. Times the affected file of fixing commit modified in the past since their creation"
   ]
  },
  {
   "cell_type": "code",
   "execution_count": 82,
   "metadata": {},
   "outputs": [
    {
     "name": "stdout",
     "output_type": "stream",
     "text": [
      "File 1 = components/camel-jackson/src/main/java/org/apache/camel/component/jackson/JacksonDataFormat.java\n",
      "No of times Modified = 23\n",
      "File 2 = components/camel-jackson/src/test/java/org/apache/camel/component/jackson/JacksonMarshalUnmarshalTypeHeaderTest.java\n",
      "No of times Modified = 18\n"
     ]
    }
   ],
   "source": [
    "fileNum = 1\n",
    "for af in affected_file:\n",
    "    times_file_modified = repo.git.log(\"--follow\",\"--format=%h\", fixing_commit,\"--\",af).splitlines()\n",
    "    print(\"File \"+str(fileNum)+ \" = \"+ af)\n",
    "    print(\"No of times Modified = \"+str(len(times_file_modified)))\n",
    "    fileNum+=1"
   ]
  },
  {
   "cell_type": "markdown",
   "metadata": {},
   "source": [
    "# J. Developers modified each affected file since its creation"
   ]
  },
  {
   "cell_type": "code",
   "execution_count": 32,
   "metadata": {},
   "outputs": [
    {
     "name": "stdout",
     "output_type": "stream",
     "text": [
      "File 1 = components/camel-jackson/src/main/java/org/apache/camel/component/jackson/JacksonDataFormat.java\n",
      "{'Willem Jiang', 'Claus Ibsen', 'Richard Kettelerij', 'Daniel Kulp', 'Andrea Cosentino'}\n",
      "File 2 = components/camel-jackson/src/test/java/org/apache/camel/component/jackson/JacksonMarshalUnmarshalTypeHeaderTest.java\n",
      "{'Claus Ibsen', 'Willem Ning Jiang', 'Willem Jiang', 'Andrea Cosentino'}\n",
      "{'Willem Ning Jiang', 'Willem Jiang', 'Claus Ibsen', 'Richard Kettelerij', 'Daniel Kulp', 'Andrea Cosentino'}\n",
      "6\n"
     ]
    }
   ],
   "source": [
    "fileNum = 1\n",
    "developers\n",
    "for af in affected_file:\n",
    "    developersList = repo.git.log(\"--follow\",\"--format=%an\", fixing_commit,\"--\",af).splitlines()\n",
    "    #print(developersList)\n",
    "    dSet = set(developersList)\n",
    "    developers.update(dSet)\n",
    "    print(\"File \"+str(fileNum)+ \" = \"+ af)\n",
    "    print(dSet)\n",
    "    fileNum+=1\n",
    "print(developers)\n",
    "print(len(developers))"
   ]
  },
  {
   "cell_type": "markdown",
   "metadata": {},
   "source": [
    "# K. Commits performed by developers"
   ]
  },
  {
   "cell_type": "code",
   "execution_count": 27,
   "metadata": {},
   "outputs": [],
   "source": [
    "commit_authors = repo.git.shortlog(\"-sn\", \"--all\").splitlines()\n",
    "author_commits = []\n",
    "authors = []\n",
    "for commit_author in commit_authors:\n",
    "    commit, author = commit_author.split(\"\\t\")\n",
    "    for d in developers:\n",
    "        if(d == author):\n",
    "            author_commits.append([int(commit), author])"
   ]
  },
  {
   "cell_type": "code",
   "execution_count": 31,
   "metadata": {},
   "outputs": [
    {
     "name": "stdout",
     "output_type": "stream",
     "text": [
      "[[19604, 'Claus Ibsen'], [7661, 'Andrea Cosentino'], [3601, 'Willem Ning Jiang'], [2300, 'Willem Jiang'], [390, 'Daniel Kulp'], [36, 'Richard Kettelerij']]\n"
     ]
    }
   ],
   "source": [
    "df = pd.DataFrame(author_commits, columns=['Commit', 'Author'])\n",
    "print(author_commits)"
   ]
  },
  {
   "cell_type": "code",
   "execution_count": 29,
   "metadata": {},
   "outputs": [
    {
     "data": {
      "text/html": [
       "<div>\n",
       "<style scoped>\n",
       "    .dataframe tbody tr th:only-of-type {\n",
       "        vertical-align: middle;\n",
       "    }\n",
       "\n",
       "    .dataframe tbody tr th {\n",
       "        vertical-align: top;\n",
       "    }\n",
       "\n",
       "    .dataframe thead th {\n",
       "        text-align: right;\n",
       "    }\n",
       "</style>\n",
       "<table border=\"1\" class=\"dataframe\">\n",
       "  <thead>\n",
       "    <tr style=\"text-align: right;\">\n",
       "      <th></th>\n",
       "      <th>Commit</th>\n",
       "      <th>Author</th>\n",
       "    </tr>\n",
       "  </thead>\n",
       "  <tbody>\n",
       "    <tr>\n",
       "      <td>0</td>\n",
       "      <td>19604</td>\n",
       "      <td>Claus Ibsen</td>\n",
       "    </tr>\n",
       "    <tr>\n",
       "      <td>1</td>\n",
       "      <td>7661</td>\n",
       "      <td>Andrea Cosentino</td>\n",
       "    </tr>\n",
       "    <tr>\n",
       "      <td>2</td>\n",
       "      <td>3601</td>\n",
       "      <td>Willem Ning Jiang</td>\n",
       "    </tr>\n",
       "    <tr>\n",
       "      <td>3</td>\n",
       "      <td>2300</td>\n",
       "      <td>Willem Jiang</td>\n",
       "    </tr>\n",
       "    <tr>\n",
       "      <td>4</td>\n",
       "      <td>390</td>\n",
       "      <td>Daniel Kulp</td>\n",
       "    </tr>\n",
       "  </tbody>\n",
       "</table>\n",
       "</div>"
      ],
      "text/plain": [
       "   Commit             Author\n",
       "0   19604        Claus Ibsen\n",
       "1    7661   Andrea Cosentino\n",
       "2    3601  Willem Ning Jiang\n",
       "3    2300       Willem Jiang\n",
       "4     390        Daniel Kulp"
      ]
     },
     "execution_count": 29,
     "metadata": {},
     "output_type": "execute_result"
    }
   ],
   "source": [
    "df.head()"
   ]
  },
  {
   "cell_type": "markdown",
   "metadata": {},
   "source": [
    "## Developers commit"
   ]
  },
  {
   "cell_type": "code",
   "execution_count": 25,
   "metadata": {},
   "outputs": [
    {
     "data": {
      "text/plain": [
       "<matplotlib.axes._subplots.AxesSubplot at 0xe92130>"
      ]
     },
     "execution_count": 25,
     "metadata": {},
     "output_type": "execute_result"
    },
    {
     "data": {
      "image/png": "[encoded data removed]",
      "text/plain": [
       "<Figure size 432x288 with 1 Axes>"
      ]
     },
     "metadata": {
      "needs_background": "light"
     },
     "output_type": "display_data"
    }
   ],
   "source": [
    "sns.barplot(y='Author', x=\"Commit\", data=df[:len(developers)])"
   ]
  },
  {
   "cell_type": "code",
   "execution_count": null,
   "metadata": {},
   "outputs": [],
   "source": []
  }
 ],
 "metadata": {
  "kernelspec": {
   "display_name": "Python 3",
   "language": "python",
   "name": "python3"
  },
  "language_info": {
   "codemirror_mode": {
    "name": "ipython",
    "version": 3
   },
   "file_extension": ".py",
   "mimetype": "text/x-python",
   "name": "python",
   "nbconvert_exporter": "python",
   "pygments_lexer": "ipython3",
   "version": "3.7.4"
  }
 },
 "nbformat": 4,
 "nbformat_minor": 2
}
