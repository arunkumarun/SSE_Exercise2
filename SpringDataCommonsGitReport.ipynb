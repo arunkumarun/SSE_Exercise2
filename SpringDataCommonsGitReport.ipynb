{
 "cells": [
  {
   "cell_type": "markdown",
   "metadata": {},
   "source": [
    "\n"
   ]
  },
  {
   "cell_type": "markdown",
   "metadata": {},
   "source": [
    "# Load libraries"
   ]
  },
  {
   "cell_type": "code",
   "execution_count": 1,
   "metadata": {},
   "outputs": [],
   "source": [
    "import numpy as np\n",
    "import pandas as pd\n",
    "import os\n",
    "import re\n",
    "\n",
    "from datetime import datetime\n",
    "\n",
    "# Specify git executable file for GitPython in Jupyter Notebook (In IDE, it can still work without this line.)\n",
    "os.environ[\"GIT_PYTHON_GIT_EXECUTABLE\"] = \"C:\\Program Files\\Git\\cmd\\git.exe\"\n",
    "\n",
    "import git\n",
    "from git import RemoteProgress\n",
    "\n",
    "from git import Repo\n",
    "import matplotlib.pyplot as plt\n",
    "import seaborn as sns\n",
    "%matplotlib inline"
   ]
  },
  {
   "cell_type": "markdown",
   "metadata": {},
   "source": [
    "# Clone repo from GitHub"
   ]
  },
  {
   "cell_type": "markdown",
   "metadata": {},
   "source": [
    "Link: https://git-scm.com/docs/git-clone <br>\n",
    "<b>Note:</b> In case too-long file path issue occurs in Windows, set <code>git config --system core.longpaths true</code>"
   ]
  },
  {
   "cell_type": "code",
   "execution_count": 2,
   "metadata": {},
   "outputs": [],
   "source": [
    "class Progress(RemoteProgress):\n",
    "    def update(self, op_code, cur_count, max_count=None, message=''):\n",
    "        print(self._cur_line)"
   ]
  },
  {
   "cell_type": "code",
   "execution_count": 3,
   "metadata": {},
   "outputs": [],
   "source": [
    "class Developers:\n",
    "    developer = []"
   ]
  },
  {
   "cell_type": "code",
   "execution_count": 4,
   "metadata": {},
   "outputs": [],
   "source": [
    "#remote_link = \"https://github.com/spring-projects/spring-data-commons\"\n",
    "local_link = \"spring-data-commons\"\n",
    "# Uncomment to clone\n",
    "# Repo.clone_from(remote_link, local_link, progress=Progress())"
   ]
  },
  {
   "cell_type": "code",
   "execution_count": 5,
   "metadata": {},
   "outputs": [],
   "source": [
    "repo = Repo(local_link)\n",
    "fixing_commit = \"371f6590c509c72f8e600f3d05e110941607fba\"\n",
    "affected_file = {\"src/main/java/org/springframework/data/mapping/PropertyPath.java\",\n",
    "                \"src/test/java/org/springframework/data/mapping/PropertyPathUnitTests.java\"}"
   ]
  },
  {
   "cell_type": "markdown",
   "metadata": {},
   "source": [
    "# A. Show Message and Title of Fixing Commit\n",
    "Link: https://git-scm.com/docs/git-show\n",
    "You can explore different parameters."
   ]
  },
  {
   "cell_type": "code",
   "execution_count": 6,
   "metadata": {},
   "outputs": [
    {
     "name": "stdout",
     "output_type": "stream",
     "text": [
      "commit 371f6590c509c72f8e600f3d05e110941607fbad\n",
      "Author: Oliver Gierke <ogierke@pivotal.io>\n",
      "Date:   Tue Apr 3 19:01:15 2018 +0200\n",
      "\n",
      "    DATACMNS-1285 - PropertyPath now limits the depth of its parsing to 1000 segments.\n"
     ]
    }
   ],
   "source": [
    "show_data = repo.git.show(\"-s\", fixing_commit).splitlines()\n",
    "for line in show_data:\n",
    "    print(line)"
   ]
  },
  {
   "cell_type": "markdown",
   "metadata": {},
   "source": [
    "# B. Show Total files affected in fixing commit"
   ]
  },
  {
   "cell_type": "code",
   "execution_count": 8,
   "metadata": {},
   "outputs": [
    {
     "name": "stdout",
     "output_type": "stream",
     "text": [
      " .../springframework/data/mapping/PropertyPath.java |  6 +++++\n",
      " .../data/mapping/PropertyPathUnitTests.java        | 30 +++++++++++++++++++++-\n",
      " 2 files changed, 35 insertions(+), 1 deletion(-)\n"
     ]
    }
   ],
   "source": [
    "show_total_files = repo.git.show(\"--pretty=\"\"\",\"--stat\", fixing_commit)\n",
    "print(show_total_files)"
   ]
  },
  {
   "cell_type": "markdown",
   "metadata": {},
   "source": [
    "# C. Show Total directories affected in fixing commit"
   ]
  },
  {
   "cell_type": "code",
   "execution_count": 9,
   "metadata": {},
   "outputs": [
    {
     "name": "stdout",
     "output_type": "stream",
     "text": [
      "commit 371f6590c509c72f8e600f3d05e110941607fbad\n",
      "Author: Oliver Gierke <ogierke@pivotal.io>\n",
      "Date:   Tue Apr 3 19:01:15 2018 +0200\n",
      "\n",
      "    DATACMNS-1285 - PropertyPath now limits the depth of its parsing to 1000 segments.\n",
      "\n",
      "  32.9% src/main/java/org/springframework/data/mapping/\n",
      "  67.0% src/test/java/org/springframework/data/mapping/\n"
     ]
    }
   ],
   "source": [
    "show_total_dir = repo.git.show(\"--dirstat\", fixing_commit)\n",
    "print(show_total_dir)"
   ]
  },
  {
   "cell_type": "markdown",
   "metadata": {},
   "source": [
    "# D. Total lines of code deleted (Including comments and blank lines)"
   ]
  },
  {
   "cell_type": "code",
   "execution_count": 10,
   "metadata": {},
   "outputs": [
    {
     "name": "stdout",
     "output_type": "stream",
     "text": [
      "Total lines of code deleted <Including comments and blank lines> = 1\n"
     ]
    }
   ],
   "source": [
    "show_total_lines_deleted = repo.git.show(\"--shortstat\", fixing_commit).splitlines()\n",
    "show_total_lines_deleted.reverse()\n",
    "show_total_lines_deleted = show_total_lines_deleted[0].split(\",\")\n",
    "show_total_lines_deleted = show_total_lines_deleted[2].split(\" \")\n",
    "print(\"Total lines of code deleted <Including comments and blank lines> = \"+show_total_lines_deleted[1])"
   ]
  },
  {
   "cell_type": "markdown",
   "metadata": {},
   "source": [
    "# E. Total lines of code added (Including comments and blank lines)"
   ]
  },
  {
   "cell_type": "code",
   "execution_count": 11,
   "metadata": {},
   "outputs": [
    {
     "name": "stdout",
     "output_type": "stream",
     "text": [
      "Total lines of code Added <Including comments and blank lines> = 35\n"
     ]
    }
   ],
   "source": [
    "show_total_lines_added = repo.git.show(\"--shortstat\", fixing_commit).splitlines()\n",
    "show_total_lines_added.reverse()\n",
    "show_total_lines_added = show_total_lines_added[0].split(\",\")\n",
    "show_total_lines_added = show_total_lines_added[1].split(\" \")\n",
    "print(\"Total lines of code Added <Including comments and blank lines> = \"+show_total_lines_added[1])"
   ]
  },
  {
   "cell_type": "markdown",
   "metadata": {},
   "source": [
    "# F. Total lines of code deleted (Excluding comments and blank lines)"
   ]
  },
  {
   "cell_type": "code",
   "execution_count": 12,
   "metadata": {},
   "outputs": [
    {
     "name": "stdout",
     "output_type": "stream",
     "text": [
      "Total Lines Deleted <Excluding comments and blank lines> = 0\n"
     ]
    }
   ],
   "source": [
    "show_total_lines_del = repo.git.show(\"-U0\",\"--pretty=\"\"\",fixing_commit).splitlines()\n",
    "#print(show_total_lines_del)\n",
    "temp_line = []\n",
    "t_l_del = 0\n",
    "for line in show_total_lines_del:\n",
    "    if re.search(\"^-\",line):\n",
    "        l = line.split(\" \")\n",
    "        if(len(l) > 1):\n",
    "            if(len(l[0]) == 1):\n",
    "                if(l[1][:1] != '*' and l[1][:1] != '/'):\n",
    "                    print(line)\n",
    "                    t_l_del += 1\n",
    "                    \n",
    "print(\"Total Lines Deleted <Excluding comments and blank lines> = \"+ str(t_l_del))"
   ]
  },
  {
   "cell_type": "markdown",
   "metadata": {},
   "source": [
    "# G. Total lines of code added (Excluding comments and blank lines)"
   ]
  },
  {
   "cell_type": "code",
   "execution_count": 39,
   "metadata": {},
   "outputs": [
    {
     "name": "stdout",
     "output_type": "stream",
     "text": [
      "+ private static final String PARSE_DEPTH_EXCEEDED = \"Trying to parse a path with depth greater than 1000! This has been disabled for security reasons to prevent parsing overflows.\";\n",
      "+  if (base.size() > 1000) {\n",
      "+   throw new IllegalArgumentException(PARSE_DEPTH_EXCEEDED);\n",
      "+  }\n",
      "+ @Test // DATACMNS-1285\n",
      "+ public void rejectsTooLongPath() {\n",
      "+  String source = \"foo.bar\";\n",
      "+  for (int i = 0; i < 9; i++) {\n",
      "+   source = source + \".\" + source;\n",
      "+  }\n",
      "+  assertThat(source.split(\"\\\\.\").length, is(greaterThan(1000)));\n",
      "+  final String path = source;\n",
      "+  exception.expect(IllegalArgumentException.class);\n",
      "+  PropertyPath.from(path, Left.class);\n",
      "+ }\n",
      "+ private class Left {\n",
      "+  Right foo;\n",
      "+ }\n",
      "+ private class Right {\n",
      "+  Left bar;\n",
      "+ }\n",
      "Total Lines Added <Excluding comments and blank lines> = 21\n"
     ]
    }
   ],
   "source": [
    "show_total_lines_add = repo.git.show(\"-U0\",\"--pretty=\"\"\",fixing_commit).splitlines()\n",
    "#print(show_total_lines_add)\n",
    "temp_line_add = []\n",
    "t_l_add = 0\n",
    "for line in show_total_lines_add:\n",
    "    #check for + symbol in beginning of line\n",
    "    if re.search(\"^\\+\",line):\n",
    "        line = line.replace(\"\\t\", \" \")\n",
    "        l = line.split(\" \")\n",
    "        #If length is less than 1 it is blank line\n",
    "        if(len(l) > 1):\n",
    "            #Avoids lines like +++ \n",
    "            if(len(l[0]) == 1):\n",
    "                #Checks for comments in the line\n",
    "                if(l[1][:1] != '*' and l[1][:2] != \"//\"):\n",
    "                    print(line)\n",
    "                    t_l_add += 1\n",
    "                    \n",
    "print(\"Total Lines Added <Excluding comments and blank lines> = \"+ str(t_l_add))"
   ]
  },
  {
   "cell_type": "markdown",
   "metadata": {},
   "source": [
    "# H. Number of Days between current fixing commit and the previous commit of each affected file"
   ]
  },
  {
   "cell_type": "code",
   "execution_count": 41,
   "metadata": {},
   "outputs": [
    {
     "name": "stdout",
     "output_type": "stream",
     "text": [
      "2018-04-03 19:30:21+02:00\n",
      "2016-01-12 08:39:44+01:00\n",
      "File 1 = src/main/java/org/springframework/data/mapping/PropertyPath.java\n",
      "No of Days = 812\n",
      "2018-04-03 19:30:21+02:00\n",
      "2017-01-13 08:45:25+01:00\n",
      "File 2 = src/test/java/org/springframework/data/mapping/PropertyPathUnitTests.java\n",
      "No of Days = 445\n"
     ]
    }
   ],
   "source": [
    "fileNum = 1\n",
    "for af in affected_file:\n",
    "    no_of_days = repo.git.log(\"-2\",\"--pretty=fuller\",\"--format=%cd\", fixing_commit,\"--\",af).splitlines()\n",
    "    #print(no_of_days)\n",
    "    date1 = datetime.strptime(no_of_days[0],'%a %b %d %X %Y %z')\n",
    "    print(date1)\n",
    "    date2 = datetime.strptime(no_of_days[1],'%a %b %d %X %Y %z')\n",
    "    print(date2)\n",
    "    diffDate = abs((date1-date2).days)\n",
    "    print(\"File \"+str(fileNum)+ \" = \"+ af)\n",
    "    print(\"No of Days = \"+ str(diffDate))\n",
    "    fileNum+=1"
   ]
  },
  {
   "cell_type": "markdown",
   "metadata": {},
   "source": [
    "# I. Times the affected file of fixing commit modified in the past since their creation"
   ]
  },
  {
   "cell_type": "code",
   "execution_count": 42,
   "metadata": {},
   "outputs": [
    {
     "name": "stdout",
     "output_type": "stream",
     "text": [
      "File 1 = src/main/java/org/springframework/data/mapping/PropertyPath.java\n",
      "No of times Modified = 26\n",
      "File 2 = src/test/java/org/springframework/data/mapping/PropertyPathUnitTests.java\n",
      "No of times Modified = 18\n"
     ]
    }
   ],
   "source": [
    "fileNum = 1\n",
    "for af in affected_file:\n",
    "    times_file_modified = repo.git.log(\"--follow\",\"--format=%h\", fixing_commit,\"--\",af).splitlines()\n",
    "    print(\"File \"+str(fileNum)+ \" = \"+ af)\n",
    "    print(\"No of times Modified = \"+str(len(times_file_modified)))\n",
    "    fileNum+=1"
   ]
  },
  {
   "cell_type": "markdown",
   "metadata": {},
   "source": [
    "# J. Developers modified each affected file since its creation"
   ]
  },
  {
   "cell_type": "code",
   "execution_count": 44,
   "metadata": {},
   "outputs": [
    {
     "name": "stdout",
     "output_type": "stream",
     "text": [
      "File 1 = src/main/java/org/springframework/data/mapping/PropertyPath.java\n",
      "{'Oliver Gierke', 'Aleksander Blomskøld', 'Jon Brisbin'}\n",
      "File 2 = src/test/java/org/springframework/data/mapping/PropertyPathUnitTests.java\n",
      "{'Oliver Gierke', 'Mark Paluch', 'Jon Brisbin'}\n",
      "{'Jon Brisbin', 'Mark Paluch', 'Oliver Gierke', 'Aleksander Blomskøld'}\n",
      "4\n"
     ]
    }
   ],
   "source": [
    "fileNum = 1\n",
    "developers=set()\n",
    "for af in affected_file:\n",
    "    developersList = repo.git.log(\"--follow\",\"--format=%an\", fixing_commit,\"--\",af).splitlines()\n",
    "    #print(developersList)\n",
    "    dSet = set(developersList)\n",
    "    developers.update(dSet)\n",
    "    print(\"File \"+str(fileNum)+ \" = \"+ af)\n",
    "    print(dSet)\n",
    "    fileNum+=1\n",
    "print(developers)\n",
    "print(len(developers))"
   ]
  },
  {
   "cell_type": "markdown",
   "metadata": {},
   "source": [
    "# K. Commits performed by developers"
   ]
  },
  {
   "cell_type": "code",
   "execution_count": 45,
   "metadata": {},
   "outputs": [],
   "source": [
    "commit_authors = repo.git.shortlog(\"-sn\", \"--all\").splitlines()\n",
    "author_commits = []\n",
    "authors = []\n",
    "for commit_author in commit_authors:\n",
    "    commit, author = commit_author.split(\"\\t\")\n",
    "    for d in developers:\n",
    "        if(d == author):\n",
    "            author_commits.append([int(commit), author])"
   ]
  },
  {
   "cell_type": "code",
   "execution_count": 46,
   "metadata": {},
   "outputs": [],
   "source": [
    "df = pd.DataFrame(author_commits, columns=['Commit', 'Author'])"
   ]
  },
  {
   "cell_type": "code",
   "execution_count": 47,
   "metadata": {},
   "outputs": [
    {
     "data": {
      "text/html": [
       "<div>\n",
       "<style scoped>\n",
       "    .dataframe tbody tr th:only-of-type {\n",
       "        vertical-align: middle;\n",
       "    }\n",
       "\n",
       "    .dataframe tbody tr th {\n",
       "        vertical-align: top;\n",
       "    }\n",
       "\n",
       "    .dataframe thead th {\n",
       "        text-align: right;\n",
       "    }\n",
       "</style>\n",
       "<table border=\"1\" class=\"dataframe\">\n",
       "  <thead>\n",
       "    <tr style=\"text-align: right;\">\n",
       "      <th></th>\n",
       "      <th>Commit</th>\n",
       "      <th>Author</th>\n",
       "    </tr>\n",
       "  </thead>\n",
       "  <tbody>\n",
       "    <tr>\n",
       "      <td>0</td>\n",
       "      <td>1961</td>\n",
       "      <td>Oliver Gierke</td>\n",
       "    </tr>\n",
       "    <tr>\n",
       "      <td>1</td>\n",
       "      <td>618</td>\n",
       "      <td>Mark Paluch</td>\n",
       "    </tr>\n",
       "    <tr>\n",
       "      <td>2</td>\n",
       "      <td>10</td>\n",
       "      <td>Jon Brisbin</td>\n",
       "    </tr>\n",
       "    <tr>\n",
       "      <td>3</td>\n",
       "      <td>1</td>\n",
       "      <td>Aleksander Blomskøld</td>\n",
       "    </tr>\n",
       "  </tbody>\n",
       "</table>\n",
       "</div>"
      ],
      "text/plain": [
       "   Commit                Author\n",
       "0    1961         Oliver Gierke\n",
       "1     618           Mark Paluch\n",
       "2      10           Jon Brisbin\n",
       "3       1  Aleksander Blomskøld"
      ]
     },
     "execution_count": 47,
     "metadata": {},
     "output_type": "execute_result"
    }
   ],
   "source": [
    "df.head()"
   ]
  },
  {
   "cell_type": "markdown",
   "metadata": {},
   "source": [
    "## Developers commit"
   ]
  },
  {
   "cell_type": "code",
   "execution_count": 48,
   "metadata": {},
   "outputs": [
    {
     "data": {
      "text/plain": [
       "<matplotlib.axes._subplots.AxesSubplot at 0x12538d0>"
      ]
     },
     "execution_count": 48,
     "metadata": {},
     "output_type": "execute_result"
    },
    {
     "data": {
      "image/png": "[encoded data removed]",
      "text/plain": [
       "<Figure size 432x288 with 1 Axes>"
      ]
     },
     "metadata": {
      "needs_background": "light"
     },
     "output_type": "display_data"
    }
   ],
   "source": [
    "sns.barplot(y='Author', x=\"Commit\", data=df[:len(developers)])"
   ]
  },
  {
   "cell_type": "code",
   "execution_count": null,
   "metadata": {},
   "outputs": [],
   "source": []
  }
 ],
 "metadata": {
  "kernelspec": {
   "display_name": "Python 3",
   "language": "python",
   "name": "python3"
  },
  "language_info": {
   "codemirror_mode": {
    "name": "ipython",
    "version": 3
   },
   "file_extension": ".py",
   "mimetype": "text/x-python",
   "name": "python",
   "nbconvert_exporter": "python",
   "pygments_lexer": "ipython3",
   "version": "3.7.4"
  }
 },
 "nbformat": 4,
 "nbformat_minor": 2
}
