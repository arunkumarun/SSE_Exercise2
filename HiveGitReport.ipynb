{
 "cells": [
  {
   "cell_type": "markdown",
   "metadata": {},
   "source": [
    "\n"
   ]
  },
  {
   "cell_type": "markdown",
   "metadata": {},
   "source": [
    "# Load libraries"
   ]
  },
  {
   "cell_type": "code",
   "execution_count": 1,
   "metadata": {},
   "outputs": [],
   "source": [
    "import numpy as np\n",
    "import pandas as pd\n",
    "import os\n",
    "import re\n",
    "\n",
    "from datetime import datetime\n",
    "\n",
    "# Specify git executable file for GitPython in Jupyter Notebook (In IDE, it can still work without this line.)\n",
    "os.environ[\"GIT_PYTHON_GIT_EXECUTABLE\"] = \"C:\\Program Files\\Git\\cmd\\git.exe\"\n",
    "\n",
    "import git\n",
    "from git import RemoteProgress\n",
    "\n",
    "from git import Repo\n",
    "import matplotlib.pyplot as plt\n",
    "import seaborn as sns\n",
    "%matplotlib inline"
   ]
  },
  {
   "cell_type": "markdown",
   "metadata": {},
   "source": [
    "# Clone repo from GitHub"
   ]
  },
  {
   "cell_type": "markdown",
   "metadata": {},
   "source": [
    "Link: https://git-scm.com/docs/git-clone <br>\n",
    "<b>Note:</b> In case too-long file path issue occurs in Windows, set <code>git config --system core.longpaths true</code>"
   ]
  },
  {
   "cell_type": "code",
   "execution_count": 2,
   "metadata": {},
   "outputs": [],
   "source": [
    "class Progress(RemoteProgress):\n",
    "    def update(self, op_code, cur_count, max_count=None, message=''):\n",
    "        print(self._cur_line)"
   ]
  },
  {
   "cell_type": "code",
   "execution_count": 3,
   "metadata": {},
   "outputs": [],
   "source": [
    "class Developers:\n",
    "    developer = []"
   ]
  },
  {
   "cell_type": "code",
   "execution_count": 4,
   "metadata": {},
   "outputs": [],
   "source": [
    "#remote_link = \"https://github.com/apache/hive\"\n",
    "local_link = \"hive\"\n",
    "# Uncomment to clone\n",
    "# Repo.clone_from(remote_link, local_link, progress=Progress())"
   ]
  },
  {
   "cell_type": "code",
   "execution_count": 5,
   "metadata": {},
   "outputs": [],
   "source": [
    "repo = Repo(local_link)\n",
    "fixing_commit = \"b0a58d245875dc1b3ac58a7cf1a61d3b17805e96\"\n",
    "affected_file = {\"ql/src/java/org/apache/hadoop/hive/ql/udf/xml/UDFXPathUtil.java\",\n",
    "                \"ql/src/test/org/apache/hadoop/hive/ql/udf/xml/TestUDFXPathUtil.java\"}"
   ]
  },
  {
   "cell_type": "markdown",
   "metadata": {},
   "source": [
    "# A. Show Message and Title of Fixing Commit\n",
    "Link: https://git-scm.com/docs/git-show\n",
    "You can explore different parameters."
   ]
  },
  {
   "cell_type": "code",
   "execution_count": 6,
   "metadata": {},
   "outputs": [
    {
     "name": "stdout",
     "output_type": "stream",
     "text": [
      "commit b0a58d245875dc1b3ac58a7cf1a61d3b17805e96\n",
      "Author: Daniel Dai <daijy@hortonworks.com>\n",
      "Date:   Wed Mar 7 13:37:38 2018 -0800\n",
      "\n",
      "    HIVE-18879: Disallow embedded element in UDFXPathUtil needs to work if xercesImpl.jar in classpath (Daniel Dai, reviewed by Thejas Nair)\n"
     ]
    }
   ],
   "source": [
    "show_data = repo.git.show(\"-s\", fixing_commit).splitlines()\n",
    "for line in show_data:\n",
    "    print(line)"
   ]
  },
  {
   "cell_type": "markdown",
   "metadata": {},
   "source": [
    "# B. Show Total files affected in fixing commit"
   ]
  },
  {
   "cell_type": "code",
   "execution_count": 7,
   "metadata": {},
   "outputs": [
    {
     "name": "stdout",
     "output_type": "stream",
     "text": [
      " .../hadoop/hive/ql/udf/xml/UDFXPathUtil.java       | 27 +++++++++++++++++++++-\n",
      " .../hadoop/hive/ql/udf/xml/TestUDFXPathUtil.java   | 23 +++++++++++++++++-\n",
      " 2 files changed, 48 insertions(+), 2 deletions(-)\n"
     ]
    }
   ],
   "source": [
    "show_total_files = repo.git.show(\"--pretty=\"\"\",\"--stat\", fixing_commit)\n",
    "print(show_total_files)"
   ]
  },
  {
   "cell_type": "markdown",
   "metadata": {},
   "source": [
    "# C. Show Total directories affected in fixing commit"
   ]
  },
  {
   "cell_type": "code",
   "execution_count": 8,
   "metadata": {},
   "outputs": [
    {
     "name": "stdout",
     "output_type": "stream",
     "text": [
      "commit b0a58d245875dc1b3ac58a7cf1a61d3b17805e96\n",
      "Author: Daniel Dai <daijy@hortonworks.com>\n",
      "Date:   Wed Mar 7 13:37:38 2018 -0800\n",
      "\n",
      "    HIVE-18879: Disallow embedded element in UDFXPathUtil needs to work if xercesImpl.jar in classpath (Daniel Dai, reviewed by Thejas Nair)\n",
      "\n",
      "  65.8% ql/src/java/org/apache/hadoop/hive/ql/udf/xml/\n",
      "  34.1% ql/src/test/org/apache/hadoop/hive/ql/udf/xml/\n"
     ]
    }
   ],
   "source": [
    "show_total_dir = repo.git.show(\"--dirstat\", fixing_commit)\n",
    "print(show_total_dir)"
   ]
  },
  {
   "cell_type": "markdown",
   "metadata": {},
   "source": [
    "# D. Total lines of code deleted (Including comments and blank lines)"
   ]
  },
  {
   "cell_type": "code",
   "execution_count": 10,
   "metadata": {},
   "outputs": [
    {
     "name": "stdout",
     "output_type": "stream",
     "text": [
      "Total lines of code deleted <Including comments and blank lines> = 2\n"
     ]
    }
   ],
   "source": [
    "show_total_lines_deleted = repo.git.show(\"--shortstat\", fixing_commit).splitlines()\n",
    "show_total_lines_deleted.reverse()\n",
    "show_total_lines_deleted = show_total_lines_deleted[0].split(\",\")\n",
    "show_total_lines_deleted = show_total_lines_deleted[2].split(\" \")\n",
    "print(\"Total lines of code deleted <Including comments and blank lines> = \"+show_total_lines_deleted[1])"
   ]
  },
  {
   "cell_type": "markdown",
   "metadata": {},
   "source": [
    "# E. Total lines of code added (Including comments and blank lines)"
   ]
  },
  {
   "cell_type": "code",
   "execution_count": 11,
   "metadata": {},
   "outputs": [
    {
     "name": "stdout",
     "output_type": "stream",
     "text": [
      "Total lines of code Added <Including comments and blank lines> = 48\n"
     ]
    }
   ],
   "source": [
    "show_total_lines_added = repo.git.show(\"--shortstat\", fixing_commit).splitlines()\n",
    "show_total_lines_added.reverse()\n",
    "show_total_lines_added = show_total_lines_added[0].split(\",\")\n",
    "show_total_lines_added = show_total_lines_added[1].split(\" \")\n",
    "print(\"Total lines of code Added <Including comments and blank lines> = \"+show_total_lines_added[1])"
   ]
  },
  {
   "cell_type": "markdown",
   "metadata": {},
   "source": [
    "# F. Total lines of code deleted (Excluding comments and blank lines)"
   ]
  },
  {
   "cell_type": "code",
   "execution_count": 12,
   "metadata": {},
   "outputs": [
    {
     "name": "stdout",
     "output_type": "stream",
     "text": [
      "-      return expression.evaluate(inputSource, qname);\n",
      "Total Lines Deleted <Excluding comments and blank lines> = 1\n"
     ]
    }
   ],
   "source": [
    "show_total_lines_del = repo.git.show(\"-U0\",\"--pretty=\"\"\",fixing_commit).splitlines()\n",
    "#print(show_total_lines_del)\n",
    "temp_line = []\n",
    "t_l_del = 0\n",
    "for line in show_total_lines_del:\n",
    "    if re.search(\"^-\",line):\n",
    "        l = line.split(\" \")\n",
    "        if(len(l) > 3):\n",
    "            if(len(l[0]) == 1):\n",
    "                if(l[1][:1] != '*' or l[1][:1] != '/'):\n",
    "                    print(line)\n",
    "                    t_l_del += 1\n",
    "                    \n",
    "print(\"Total Lines Deleted <Excluding comments and blank lines> = \"+ str(t_l_del))"
   ]
  },
  {
   "cell_type": "markdown",
   "metadata": {},
   "source": [
    "# G. Total lines of code added (Excluding comments and blank lines)"
   ]
  },
  {
   "cell_type": "code",
   "execution_count": 42,
   "metadata": {},
   "outputs": [
    {
     "name": "stdout",
     "output_type": "stream",
     "text": [
      "+  public static final String SAX_FEATURE_PREFIX = \"http://xml.org/sax/features/\";\n",
      "+  public static final String EXTERNAL_GENERAL_ENTITIES_FEATURE = \"external-general-entities\";\n",
      "+  public static final String EXTERNAL_PARAMETER_ENTITIES_FEATURE = \"external-parameter-entities\";\n",
      "+  private DocumentBuilderFactory dbf = DocumentBuilderFactory.newInstance();\n",
      "+  private DocumentBuilder builder = null;\n",
      "+    if (builder == null){\n",
      "+      try {\n",
      "+        initializeDocumentBuilderFactory();\n",
      "+        builder = dbf.newDocumentBuilder();\n",
      "+      } catch (ParserConfigurationException e) {\n",
      "+        throw new RuntimeException(\"Error instantiating DocumentBuilder, cannot build xml parser\", e);\n",
      "+      }\n",
      "+    }\n",
      "+      return expression.evaluate(builder.parse(inputSource), qname);\n",
      "+    } catch (Exception e) {\n",
      "+      throw new RuntimeException(\"Error loading expression '\" + oldPath + \"'\", e);\n",
      "+  private void initializeDocumentBuilderFactory() throws ParserConfigurationException {\n",
      "+    dbf.setFeature(SAX_FEATURE_PREFIX + EXTERNAL_GENERAL_ENTITIES_FEATURE, false);\n",
      "+    dbf.setFeature(SAX_FEATURE_PREFIX + EXTERNAL_PARAMETER_ENTITIES_FEATURE, false);\n",
      "+  }\n",
      "+  @Test\n",
      "+  public void testEmbedFailure() throws Exception {\n",
      "+    String secretValue = String.valueOf(Math.random());\n",
      "+    File tempFile = File.createTempFile(\"verifyembed\", \".tmp\");\n",
      "+    tempFile.deleteOnExit();\n",
      "+    String fname = tempFile.getAbsolutePath();\n",
      "+    FileUtils.writeStringToFile(tempFile, secretValue);\n",
      "+    String xml = \"<?xml version=\\\"1.0\\\" encoding=\\\"utf-8\\\"?>\\n\" +\n",
      "+        \"<!DOCTYPE test [ \\n\" +\n",
      "+        \"    <!ENTITY embed SYSTEM \\\"\" + fname + \"\\\"> \\n\" +\n",
      "+        \"]>\\n\" +\n",
      "+        \"<foo>&embed;</foo>\";\n",
      "+    String evaled = new UDFXPathUtil().evalString(xml, \"/foo\");\n",
      "+    assertTrue(evaled.isEmpty());\n",
      "+  }\n",
      "Total Lines Added <Excluding comments and blank lines> = 35\n"
     ]
    }
   ],
   "source": [
    "show_total_lines_add = repo.git.show(\"-U0\",\"--pretty=\"\"\",fixing_commit).splitlines()\n",
    "#print(show_total_lines_add)\n",
    "temp_line_add = []\n",
    "t_l_add = 0\n",
    "for line in show_total_lines_add:\n",
    "    #check for + symbol in beginning of line\n",
    "    if re.search(\"^\\+\",line):\n",
    "        line = line.replace(\"\\t\", \" \")\n",
    "        l = line.split(\" \")\n",
    "        #If length is less than 1 it is blank line\n",
    "        if(len(l) > 1):\n",
    "            #Avoids lines like +++ \n",
    "            if(len(l[0]) == 1):\n",
    "                #Checks for comments in the line\n",
    "                if(l[1][:1] != '*' and l[1][:2] != \"//\"):\n",
    "                    print(line)\n",
    "                    t_l_add += 1\n",
    "                    \n",
    "print(\"Total Lines Added <Excluding comments and blank lines> = \"+ str(t_l_add))"
   ]
  },
  {
   "cell_type": "markdown",
   "metadata": {},
   "source": [
    "# H. Number of Days between current fixing commit and the previous commit of each affected file"
   ]
  },
  {
   "cell_type": "code",
   "execution_count": 15,
   "metadata": {},
   "outputs": [
    {
     "name": "stdout",
     "output_type": "stream",
     "text": [
      "File 1 = ql/src/java/org/apache/hadoop/hive/ql/udf/xml/UDFXPathUtil.java\n",
      "No of Days = 0\n",
      "File 2 = ql/src/test/org/apache/hadoop/hive/ql/udf/xml/TestUDFXPathUtil.java\n",
      "No of Days = 0\n"
     ]
    }
   ],
   "source": [
    "fileNum = 1\n",
    "for af in affected_file:\n",
    "    no_of_days = repo.git.log(\"-2\",\"--pretty=fuller\",\"--format=%cd\", fixing_commit,\"--\",af).splitlines()\n",
    "    #print(no_of_days)\n",
    "    date1 = datetime.strptime(no_of_days[0],'%a %b %d %X %Y %z')\n",
    "    #print(date1)\n",
    "    date2 = datetime.strptime(no_of_days[1],'%a %b %d %X %Y %z')\n",
    "    #print(date2)\n",
    "    diffDate = abs((date1-date2).days)\n",
    "    print(\"File \"+str(fileNum)+ \" = \"+ af)\n",
    "    print(\"No of Days = \"+ str(diffDate))\n",
    "    fileNum+=1"
   ]
  },
  {
   "cell_type": "markdown",
   "metadata": {},
   "source": [
    "# I. Times the affected file of fixing commit modified in the past since their creation"
   ]
  },
  {
   "cell_type": "code",
   "execution_count": 20,
   "metadata": {},
   "outputs": [
    {
     "name": "stdout",
     "output_type": "stream",
     "text": [
      "File 1 = ql/src/java/org/apache/hadoop/hive/ql/udf/xml/UDFXPathUtil.java\n",
      "No of times Modified = 7\n",
      "File 2 = ql/src/test/org/apache/hadoop/hive/ql/udf/xml/TestUDFXPathUtil.java\n",
      "No of times Modified = 5\n"
     ]
    }
   ],
   "source": [
    "fileNum = 1\n",
    "for af in affected_file:\n",
    "    times_file_modified = repo.git.log(\"--follow\",\"--format=%h\", fixing_commit,\"--\",af).splitlines()\n",
    "    print(\"File \"+str(fileNum)+ \" = \"+ af)\n",
    "    print(\"No of times Modified = \"+str(len(times_file_modified)))\n",
    "    fileNum+=1"
   ]
  },
  {
   "cell_type": "markdown",
   "metadata": {},
   "source": [
    "# J. Developers modified each affected file since its creation"
   ]
  },
  {
   "cell_type": "code",
   "execution_count": 37,
   "metadata": {},
   "outputs": [
    {
     "name": "stdout",
     "output_type": "stream",
     "text": [
      "File 1 = ql/src/java/org/apache/hadoop/hive/ql/udf/xml/UDFXPathUtil.java\n",
      "{'Ashutosh Chauhan', 'Navis Ryu', 'Daniel Dai', 'Ning Zhang', 'Prasanth Jayachandran'}\n",
      "File 2 = ql/src/test/org/apache/hadoop/hive/ql/udf/xml/TestUDFXPathUtil.java\n",
      "{'Daniel Dai', 'Ashutosh Chauhan', 'Prasanth Jayachandran'}\n",
      "{'Ning Zhang', 'Navis Ryu', 'Daniel Dai', 'Ashutosh Chauhan', 'Prasanth Jayachandran'}\n",
      "5\n"
     ]
    }
   ],
   "source": [
    "fileNum = 1\n",
    "developers=set()\n",
    "for af in affected_file:\n",
    "    developersList = repo.git.log(\"--follow\",\"--format=%an\", fixing_commit,\"--\",af).splitlines()\n",
    "    #print(developersList)\n",
    "    dSet = set(developersList)\n",
    "    developers.update(dSet)\n",
    "    print(\"File \"+str(fileNum)+ \" = \"+ af)\n",
    "    print(dSet)\n",
    "    fileNum+=1\n",
    "print(developers)\n",
    "print(len(developers))"
   ]
  },
  {
   "cell_type": "markdown",
   "metadata": {},
   "source": [
    "# K. Commits performed by developers"
   ]
  },
  {
   "cell_type": "code",
   "execution_count": 39,
   "metadata": {},
   "outputs": [],
   "source": [
    "commit_authors = repo.git.shortlog(\"-sn\", \"--all\").splitlines()\n",
    "author_commits = []\n",
    "authors = []\n",
    "for commit_author in commit_authors:\n",
    "    commit, author = commit_author.split(\"\\t\")\n",
    "    for d in developers:\n",
    "        if(d == author):\n",
    "            author_commits.append([int(commit), author])"
   ]
  },
  {
   "cell_type": "code",
   "execution_count": 40,
   "metadata": {},
   "outputs": [],
   "source": [
    "df = pd.DataFrame(author_commits, columns=['Commit', 'Author'])"
   ]
  },
  {
   "cell_type": "code",
   "execution_count": 41,
   "metadata": {},
   "outputs": [
    {
     "data": {
      "text/html": [
       "<div>\n",
       "<style scoped>\n",
       "    .dataframe tbody tr th:only-of-type {\n",
       "        vertical-align: middle;\n",
       "    }\n",
       "\n",
       "    .dataframe tbody tr th {\n",
       "        vertical-align: top;\n",
       "    }\n",
       "\n",
       "    .dataframe thead th {\n",
       "        text-align: right;\n",
       "    }\n",
       "</style>\n",
       "<table border=\"1\" class=\"dataframe\">\n",
       "  <thead>\n",
       "    <tr style=\"text-align: right;\">\n",
       "      <th></th>\n",
       "      <th>Commit</th>\n",
       "      <th>Author</th>\n",
       "    </tr>\n",
       "  </thead>\n",
       "  <tbody>\n",
       "    <tr>\n",
       "      <td>0</td>\n",
       "      <td>1947</td>\n",
       "      <td>Ashutosh Chauhan</td>\n",
       "    </tr>\n",
       "    <tr>\n",
       "      <td>1</td>\n",
       "      <td>834</td>\n",
       "      <td>Prasanth Jayachandran</td>\n",
       "    </tr>\n",
       "    <tr>\n",
       "      <td>2</td>\n",
       "      <td>318</td>\n",
       "      <td>Daniel Dai</td>\n",
       "    </tr>\n",
       "    <tr>\n",
       "      <td>3</td>\n",
       "      <td>132</td>\n",
       "      <td>Navis Ryu</td>\n",
       "    </tr>\n",
       "    <tr>\n",
       "      <td>4</td>\n",
       "      <td>131</td>\n",
       "      <td>Ning Zhang</td>\n",
       "    </tr>\n",
       "  </tbody>\n",
       "</table>\n",
       "</div>"
      ],
      "text/plain": [
       "   Commit                 Author\n",
       "0    1947       Ashutosh Chauhan\n",
       "1     834  Prasanth Jayachandran\n",
       "2     318             Daniel Dai\n",
       "3     132              Navis Ryu\n",
       "4     131             Ning Zhang"
      ]
     },
     "execution_count": 41,
     "metadata": {},
     "output_type": "execute_result"
    }
   ],
   "source": [
    "df.head()"
   ]
  },
  {
   "cell_type": "markdown",
   "metadata": {},
   "source": [
    "## Developers commit"
   ]
  },
  {
   "cell_type": "code",
   "execution_count": 37,
   "metadata": {},
   "outputs": [
    {
     "data": {
      "text/plain": [
       "<matplotlib.axes._subplots.AxesSubplot at 0xe294c50>"
      ]
     },
     "execution_count": 37,
     "metadata": {},
     "output_type": "execute_result"
    },
    {
     "data": {
      "image/png": "[encoded data removed]",
      "text/plain": [
       "<Figure size 432x288 with 1 Axes>"
      ]
     },
     "metadata": {
      "needs_background": "light"
     },
     "output_type": "display_data"
    }
   ],
   "source": [
    "sns.barplot(y='Author', x=\"Commit\", data=df[:len(developers)])"
   ]
  },
  {
   "cell_type": "code",
   "execution_count": null,
   "metadata": {},
   "outputs": [],
   "source": []
  }
 ],
 "metadata": {
  "kernelspec": {
   "display_name": "Python 3",
   "language": "python",
   "name": "python3"
  },
  "language_info": {
   "codemirror_mode": {
    "name": "ipython",
    "version": 3
   },
   "file_extension": ".py",
   "mimetype": "text/x-python",
   "name": "python",
   "nbconvert_exporter": "python",
   "pygments_lexer": "ipython3",
   "version": "3.7.4"
  }
 },
 "nbformat": 4,
 "nbformat_minor": 2
}
